{
  "nbformat": 4,
  "nbformat_minor": 0,
  "metadata": {
    "colab": {
      "name": "Project_CNN.ipynb",
      "provenance": [],
      "collapsed_sections": []
    },
    "kernelspec": {
      "name": "python3",
      "display_name": "Python 3"
    },
    "language_info": {
      "name": "python"
    },
    "accelerator": "GPU"
  },
  "cells": [
    {
      "cell_type": "markdown",
      "source": [
        "### Read the dataset in from Kaggle"
      ],
      "metadata": {
        "id": "h0-ee8cTQts2"
      }
    },
    {
      "cell_type": "code",
      "source": [
        "import json\n",
        "\n",
        "! pip install kaggle\n",
        "! mkdir /root/.kaggle/\n",
        "\n",
        "token = {\"username\": \"stensalumets\", \"key\": \"87f48d7a114c6e2d96984b04f6eaa078\"}\n",
        "with open('/root/.kaggle/kaggle.json', 'w') as file:\n",
        "    json.dump(token, file)\n",
        "\n",
        "! chmod 600 /root/.kaggle/kaggle.json\n",
        "\n",
        "! kaggle competitions download -c nlp-getting-started\n"
      ],
      "metadata": {
        "id": "hdOKzh61Ncq4",
        "colab": {
          "base_uri": "https://localhost:8080/"
        },
        "outputId": "a40f998e-85c6-4aa6-81ac-1275c1b7e028"
      },
      "execution_count": null,
      "outputs": [
        {
          "output_type": "stream",
          "name": "stdout",
          "text": [
            "Requirement already satisfied: kaggle in /usr/local/lib/python3.7/dist-packages (1.5.12)\n",
            "Requirement already satisfied: python-dateutil in /usr/local/lib/python3.7/dist-packages (from kaggle) (2.8.2)\n",
            "Requirement already satisfied: requests in /usr/local/lib/python3.7/dist-packages (from kaggle) (2.23.0)\n",
            "Requirement already satisfied: urllib3 in /usr/local/lib/python3.7/dist-packages (from kaggle) (1.24.3)\n",
            "Requirement already satisfied: python-slugify in /usr/local/lib/python3.7/dist-packages (from kaggle) (5.0.2)\n",
            "Requirement already satisfied: tqdm in /usr/local/lib/python3.7/dist-packages (from kaggle) (4.62.3)\n",
            "Requirement already satisfied: six>=1.10 in /usr/local/lib/python3.7/dist-packages (from kaggle) (1.15.0)\n",
            "Requirement already satisfied: certifi in /usr/local/lib/python3.7/dist-packages (from kaggle) (2021.10.8)\n",
            "Requirement already satisfied: text-unidecode>=1.3 in /usr/local/lib/python3.7/dist-packages (from python-slugify->kaggle) (1.3)\n",
            "Requirement already satisfied: chardet<4,>=3.0.2 in /usr/local/lib/python3.7/dist-packages (from requests->kaggle) (3.0.4)\n",
            "Requirement already satisfied: idna<3,>=2.5 in /usr/local/lib/python3.7/dist-packages (from requests->kaggle) (2.10)\n",
            "Warning: Looks like you're using an outdated API Version, please consider updating (server 1.5.12 / client 1.5.4)\n",
            "Downloading test.csv to /content\n",
            "  0% 0.00/411k [00:00<?, ?B/s]\n",
            "100% 411k/411k [00:00<00:00, 32.9MB/s]\n",
            "Downloading train.csv to /content\n",
            "  0% 0.00/965k [00:00<?, ?B/s]\n",
            "100% 965k/965k [00:00<00:00, 64.6MB/s]\n",
            "Downloading sample_submission.csv to /content\n",
            "  0% 0.00/22.2k [00:00<?, ?B/s]\n",
            "100% 22.2k/22.2k [00:00<00:00, 38.5MB/s]\n"
          ]
        }
      ]
    },
    {
      "cell_type": "code",
      "source": [
        "import pandas as pd\n",
        "\n",
        "train = pd.read_csv(\"train.csv\")\n",
        "test = pd.read_csv(\"test.csv\")\n",
        "\n",
        "train.head()"
      ],
      "metadata": {
        "id": "c43awVBqN0ET",
        "colab": {
          "base_uri": "https://localhost:8080/",
          "height": 206
        },
        "outputId": "11985f0d-0686-4549-d151-7b35800da689"
      },
      "execution_count": null,
      "outputs": [
        {
          "output_type": "execute_result",
          "data": {
            "text/html": [
              "<div>\n",
              "<style scoped>\n",
              "    .dataframe tbody tr th:only-of-type {\n",
              "        vertical-align: middle;\n",
              "    }\n",
              "\n",
              "    .dataframe tbody tr th {\n",
              "        vertical-align: top;\n",
              "    }\n",
              "\n",
              "    .dataframe thead th {\n",
              "        text-align: right;\n",
              "    }\n",
              "</style>\n",
              "<table border=\"1\" class=\"dataframe\">\n",
              "  <thead>\n",
              "    <tr style=\"text-align: right;\">\n",
              "      <th></th>\n",
              "      <th>id</th>\n",
              "      <th>keyword</th>\n",
              "      <th>location</th>\n",
              "      <th>text</th>\n",
              "      <th>target</th>\n",
              "    </tr>\n",
              "  </thead>\n",
              "  <tbody>\n",
              "    <tr>\n",
              "      <th>0</th>\n",
              "      <td>1</td>\n",
              "      <td>NaN</td>\n",
              "      <td>NaN</td>\n",
              "      <td>Our Deeds are the Reason of this #earthquake M...</td>\n",
              "      <td>1</td>\n",
              "    </tr>\n",
              "    <tr>\n",
              "      <th>1</th>\n",
              "      <td>4</td>\n",
              "      <td>NaN</td>\n",
              "      <td>NaN</td>\n",
              "      <td>Forest fire near La Ronge Sask. Canada</td>\n",
              "      <td>1</td>\n",
              "    </tr>\n",
              "    <tr>\n",
              "      <th>2</th>\n",
              "      <td>5</td>\n",
              "      <td>NaN</td>\n",
              "      <td>NaN</td>\n",
              "      <td>All residents asked to 'shelter in place' are ...</td>\n",
              "      <td>1</td>\n",
              "    </tr>\n",
              "    <tr>\n",
              "      <th>3</th>\n",
              "      <td>6</td>\n",
              "      <td>NaN</td>\n",
              "      <td>NaN</td>\n",
              "      <td>13,000 people receive #wildfires evacuation or...</td>\n",
              "      <td>1</td>\n",
              "    </tr>\n",
              "    <tr>\n",
              "      <th>4</th>\n",
              "      <td>7</td>\n",
              "      <td>NaN</td>\n",
              "      <td>NaN</td>\n",
              "      <td>Just got sent this photo from Ruby #Alaska as ...</td>\n",
              "      <td>1</td>\n",
              "    </tr>\n",
              "  </tbody>\n",
              "</table>\n",
              "</div>"
            ],
            "text/plain": [
              "   id keyword  ...                                               text target\n",
              "0   1     NaN  ...  Our Deeds are the Reason of this #earthquake M...      1\n",
              "1   4     NaN  ...             Forest fire near La Ronge Sask. Canada      1\n",
              "2   5     NaN  ...  All residents asked to 'shelter in place' are ...      1\n",
              "3   6     NaN  ...  13,000 people receive #wildfires evacuation or...      1\n",
              "4   7     NaN  ...  Just got sent this photo from Ruby #Alaska as ...      1\n",
              "\n",
              "[5 rows x 5 columns]"
            ]
          },
          "metadata": {},
          "execution_count": 2
        }
      ]
    },
    {
      "cell_type": "markdown",
      "source": [
        "### Preprocessing"
      ],
      "metadata": {
        "id": "ybf-FEEXRYlB"
      }
    },
    {
      "cell_type": "markdown",
      "source": [
        "Concatenate the two datasets two preprocess them equally."
      ],
      "metadata": {
        "id": "1rolHQu1sqFe"
      }
    },
    {
      "cell_type": "code",
      "source": [
        "df1 = train.copy() \n",
        "df1['source'] = 'train'\n",
        "\n",
        "df2 = test.copy() \n",
        "df2['source'] = 'test'\n",
        "\n",
        "# TODO\n",
        "data = pd.concat([df1, df2], sort=False)\n",
        "data"
      ],
      "metadata": {
        "colab": {
          "base_uri": "https://localhost:8080/",
          "height": 423
        },
        "id": "7dPQgum4suQc",
        "outputId": "376a1ba7-d052-4c29-90ad-911f7bfb59ef"
      },
      "execution_count": null,
      "outputs": [
        {
          "output_type": "execute_result",
          "data": {
            "text/html": [
              "<div>\n",
              "<style scoped>\n",
              "    .dataframe tbody tr th:only-of-type {\n",
              "        vertical-align: middle;\n",
              "    }\n",
              "\n",
              "    .dataframe tbody tr th {\n",
              "        vertical-align: top;\n",
              "    }\n",
              "\n",
              "    .dataframe thead th {\n",
              "        text-align: right;\n",
              "    }\n",
              "</style>\n",
              "<table border=\"1\" class=\"dataframe\">\n",
              "  <thead>\n",
              "    <tr style=\"text-align: right;\">\n",
              "      <th></th>\n",
              "      <th>id</th>\n",
              "      <th>keyword</th>\n",
              "      <th>location</th>\n",
              "      <th>text</th>\n",
              "      <th>target</th>\n",
              "      <th>source</th>\n",
              "    </tr>\n",
              "  </thead>\n",
              "  <tbody>\n",
              "    <tr>\n",
              "      <th>0</th>\n",
              "      <td>1</td>\n",
              "      <td>NaN</td>\n",
              "      <td>NaN</td>\n",
              "      <td>Our Deeds are the Reason of this #earthquake M...</td>\n",
              "      <td>1.0</td>\n",
              "      <td>train</td>\n",
              "    </tr>\n",
              "    <tr>\n",
              "      <th>1</th>\n",
              "      <td>4</td>\n",
              "      <td>NaN</td>\n",
              "      <td>NaN</td>\n",
              "      <td>Forest fire near La Ronge Sask. Canada</td>\n",
              "      <td>1.0</td>\n",
              "      <td>train</td>\n",
              "    </tr>\n",
              "    <tr>\n",
              "      <th>2</th>\n",
              "      <td>5</td>\n",
              "      <td>NaN</td>\n",
              "      <td>NaN</td>\n",
              "      <td>All residents asked to 'shelter in place' are ...</td>\n",
              "      <td>1.0</td>\n",
              "      <td>train</td>\n",
              "    </tr>\n",
              "    <tr>\n",
              "      <th>3</th>\n",
              "      <td>6</td>\n",
              "      <td>NaN</td>\n",
              "      <td>NaN</td>\n",
              "      <td>13,000 people receive #wildfires evacuation or...</td>\n",
              "      <td>1.0</td>\n",
              "      <td>train</td>\n",
              "    </tr>\n",
              "    <tr>\n",
              "      <th>4</th>\n",
              "      <td>7</td>\n",
              "      <td>NaN</td>\n",
              "      <td>NaN</td>\n",
              "      <td>Just got sent this photo from Ruby #Alaska as ...</td>\n",
              "      <td>1.0</td>\n",
              "      <td>train</td>\n",
              "    </tr>\n",
              "    <tr>\n",
              "      <th>...</th>\n",
              "      <td>...</td>\n",
              "      <td>...</td>\n",
              "      <td>...</td>\n",
              "      <td>...</td>\n",
              "      <td>...</td>\n",
              "      <td>...</td>\n",
              "    </tr>\n",
              "    <tr>\n",
              "      <th>3258</th>\n",
              "      <td>10861</td>\n",
              "      <td>NaN</td>\n",
              "      <td>NaN</td>\n",
              "      <td>EARTHQUAKE SAFETY LOS ANGELES ÛÒ SAFETY FASTE...</td>\n",
              "      <td>NaN</td>\n",
              "      <td>test</td>\n",
              "    </tr>\n",
              "    <tr>\n",
              "      <th>3259</th>\n",
              "      <td>10865</td>\n",
              "      <td>NaN</td>\n",
              "      <td>NaN</td>\n",
              "      <td>Storm in RI worse than last hurricane. My city...</td>\n",
              "      <td>NaN</td>\n",
              "      <td>test</td>\n",
              "    </tr>\n",
              "    <tr>\n",
              "      <th>3260</th>\n",
              "      <td>10868</td>\n",
              "      <td>NaN</td>\n",
              "      <td>NaN</td>\n",
              "      <td>Green Line derailment in Chicago http://t.co/U...</td>\n",
              "      <td>NaN</td>\n",
              "      <td>test</td>\n",
              "    </tr>\n",
              "    <tr>\n",
              "      <th>3261</th>\n",
              "      <td>10874</td>\n",
              "      <td>NaN</td>\n",
              "      <td>NaN</td>\n",
              "      <td>MEG issues Hazardous Weather Outlook (HWO) htt...</td>\n",
              "      <td>NaN</td>\n",
              "      <td>test</td>\n",
              "    </tr>\n",
              "    <tr>\n",
              "      <th>3262</th>\n",
              "      <td>10875</td>\n",
              "      <td>NaN</td>\n",
              "      <td>NaN</td>\n",
              "      <td>#CityofCalgary has activated its Municipal Eme...</td>\n",
              "      <td>NaN</td>\n",
              "      <td>test</td>\n",
              "    </tr>\n",
              "  </tbody>\n",
              "</table>\n",
              "<p>10876 rows × 6 columns</p>\n",
              "</div>"
            ],
            "text/plain": [
              "         id keyword  ... target source\n",
              "0         1     NaN  ...    1.0  train\n",
              "1         4     NaN  ...    1.0  train\n",
              "2         5     NaN  ...    1.0  train\n",
              "3         6     NaN  ...    1.0  train\n",
              "4         7     NaN  ...    1.0  train\n",
              "...     ...     ...  ...    ...    ...\n",
              "3258  10861     NaN  ...    NaN   test\n",
              "3259  10865     NaN  ...    NaN   test\n",
              "3260  10868     NaN  ...    NaN   test\n",
              "3261  10874     NaN  ...    NaN   test\n",
              "3262  10875     NaN  ...    NaN   test\n",
              "\n",
              "[10876 rows x 6 columns]"
            ]
          },
          "metadata": {},
          "execution_count": 3
        }
      ]
    },
    {
      "cell_type": "markdown",
      "source": [
        "Remove stopwords and lematize (puts words to their root form)"
      ],
      "metadata": {
        "id": "6PgGx3ylbIjY"
      }
    },
    {
      "cell_type": "code",
      "source": [
        "import nltk\n",
        "from nltk.corpus import stopwords\n",
        "from nltk.stem import WordNetLemmatizer\n",
        "\n",
        "nltk.download('stopwords')\n",
        "nltk.download('wordnet')\n",
        "\n",
        "def remove_stop_words(sentence):\n",
        "  sentence_minus_sw = []\n",
        "  stop_words = stopwords.words('english')\n",
        "  sentence = sentence.split()\n",
        "  sentence = [sentence_minus_sw.append(word) for word in sentence if word not in stop_words]\n",
        "  review = ' '.join(sentence_minus_sw)\n",
        "  return review\n",
        "\n",
        "def lematize(sentence):\n",
        "    lemmatizer = WordNetLemmatizer()\n",
        "    sentence = sentence.split()\n",
        "    sentence = [lemmatizer.lemmatize(word) for word in sentence]\n",
        "    sentence = ' '.join(sentence)\n",
        "    return sentence\n",
        "\n",
        "data['text'] = [ lematize(remove_stop_words(x)) for x in data['text'] ]"
      ],
      "metadata": {
        "colab": {
          "base_uri": "https://localhost:8080/"
        },
        "id": "nGoF7fapbJ4d",
        "outputId": "fcdf9c5a-7aa6-40d7-b985-0820e28a84ee"
      },
      "execution_count": null,
      "outputs": [
        {
          "output_type": "stream",
          "name": "stdout",
          "text": [
            "[nltk_data] Downloading package stopwords to /root/nltk_data...\n",
            "[nltk_data]   Unzipping corpora/stopwords.zip.\n",
            "[nltk_data] Downloading package wordnet to /root/nltk_data...\n",
            "[nltk_data]   Unzipping corpora/wordnet.zip.\n"
          ]
        }
      ]
    },
    {
      "cell_type": "markdown",
      "source": [
        "Encode the text to numbers. The smaller the number, the more popular the word."
      ],
      "metadata": {
        "id": "wXmTDRCtYodi"
      }
    },
    {
      "cell_type": "code",
      "source": [
        "from keras.preprocessing.text import text_to_word_sequence\n",
        "from keras.preprocessing.text import Tokenizer\n",
        "\n",
        "#top_words=20000\n",
        "t = Tokenizer() #num_words= top_words could be added\n",
        "\n",
        "list_of_text = [text_to_word_sequence(text) for text in list(data['text'])]\n",
        "\n",
        "t.fit_on_texts(list_of_text)\n",
        "data['text_processed'] = t.texts_to_sequences(list_of_text)\n",
        "\n",
        "print(\"Vocabulary consists of\", len(t.word_counts), \"words.\")\n",
        "top_words = len(t.word_counts) + 1"
      ],
      "metadata": {
        "colab": {
          "base_uri": "https://localhost:8080/"
        },
        "id": "dkuOsaE7VF1i",
        "outputId": "ca43afa9-5f47-46ed-f446-02141c24eb4b"
      },
      "execution_count": null,
      "outputs": [
        {
          "output_type": "stream",
          "name": "stdout",
          "text": [
            "Vocabulary consists of 28848 words.\n"
          ]
        }
      ]
    },
    {
      "cell_type": "code",
      "source": [
        "print(data['text'].iloc[0])\n",
        "print(data['text_processed'].iloc[0])"
      ],
      "metadata": {
        "colab": {
          "base_uri": "https://localhost:8080/"
        },
        "id": "xNCMjLS4T6fD",
        "outputId": "c2c95ec8-4d5e-4924-cd95-9084c642e96d"
      },
      "execution_count": null,
      "outputs": [
        {
          "output_type": "stream",
          "name": "stdout",
          "text": [
            "Our Deeds Reason #earthquake May ALLAH Forgive u\n",
            "[697, 5738, 590, 216, 108, 1760, 3716, 20]\n"
          ]
        }
      ]
    },
    {
      "cell_type": "markdown",
      "source": [
        "Split back into train and test"
      ],
      "metadata": {
        "id": "HUf6VpN2tRcl"
      }
    },
    {
      "cell_type": "code",
      "source": [
        "train = data[(data[\"source\"] == \"train\")].drop(columns=\"source\")\n",
        "test = data[(data[\"source\"] == \"test\")].drop(columns=[\"source\", \"target\"])"
      ],
      "metadata": {
        "id": "IqW2GaTctTKh"
      },
      "execution_count": null,
      "outputs": []
    },
    {
      "cell_type": "markdown",
      "source": [
        "See how balanced our dataset is (Not used)"
      ],
      "metadata": {
        "id": "0GMGTWd8wvVA"
      }
    },
    {
      "cell_type": "code",
      "source": [
        "train_positive = len(train[(train['target']) == 1])\n",
        "train_negative = len(train[(train['target']) == 0])\n",
        "\n",
        "print(train_positive)\n",
        "print(train_negative)"
      ],
      "metadata": {
        "colab": {
          "base_uri": "https://localhost:8080/"
        },
        "id": "SiZcD1WIvQeX",
        "outputId": "aa802c8f-9c5b-49e5-9b29-2619ea6bf6e7"
      },
      "execution_count": null,
      "outputs": [
        {
          "output_type": "stream",
          "name": "stdout",
          "text": [
            "3271\n",
            "4342\n"
          ]
        }
      ]
    },
    {
      "cell_type": "markdown",
      "source": [
        "Balance the dataset (Not used)"
      ],
      "metadata": {
        "id": "oLK5Rh5kxCxO"
      }
    },
    {
      "cell_type": "code",
      "source": [
        "positive_cases = train[train['target'] == 1]\n",
        "negative_sample = train[train['target'] == 0].sample(n=train_positive, random_state=11)\n",
        "train_balanced = pd.concat([positive_cases, negative_sample])\n",
        "train_balanced.sort_index(inplace=True)\n",
        "\n",
        "train_positive = len(train_balanced[(train_balanced['target']) == 1])\n",
        "train_negative = len(train_balanced[(train_balanced['target']) == 0])\n",
        "\n",
        "print(train_positive)\n",
        "print(train_negative)"
      ],
      "metadata": {
        "colab": {
          "base_uri": "https://localhost:8080/"
        },
        "id": "5xRbMFaexEL5",
        "outputId": "5545cc00-7c53-47a1-8bcb-5345914c226e"
      },
      "execution_count": null,
      "outputs": [
        {
          "output_type": "stream",
          "name": "stdout",
          "text": [
            "3271\n",
            "3271\n"
          ]
        }
      ]
    },
    {
      "cell_type": "markdown",
      "source": [
        "Split train into train and validation sets"
      ],
      "metadata": {
        "id": "QBrMoJP2jAB5"
      }
    },
    {
      "cell_type": "code",
      "source": [
        "from sklearn.model_selection import train_test_split\n",
        "\n",
        "print(len(train), \"\\n\")\n",
        "x_train, x_val, y_train, y_val = train_test_split(train['text_processed'], train['target'], test_size=round(len(train)*0.3), random_state=11)\n",
        "\n",
        "print(\"Shape of train set:\")\n",
        "print(x_train.shape)\n",
        "print(y_train.shape)\n",
        "\n",
        "\n",
        "x_val, x_test, y_val, y_test = train_test_split(x_val, y_val, test_size=round(len(x_val)/3), random_state=11)\n",
        "\n",
        "print(\"Shape of validation set:\")\n",
        "print(x_val.shape)\n",
        "print(y_val.shape)\n",
        "print(\"Shape of test set:\")\n",
        "print(x_test.shape)\n",
        "print(y_test.shape)\n"
      ],
      "metadata": {
        "colab": {
          "base_uri": "https://localhost:8080/"
        },
        "id": "8bO46n3li_XJ",
        "outputId": "391be4a9-e1e0-4633-f1ff-b403ae00b061"
      },
      "execution_count": null,
      "outputs": [
        {
          "output_type": "stream",
          "name": "stdout",
          "text": [
            "7613 \n",
            "\n",
            "Shape of train set:\n",
            "(5329,)\n",
            "(5329,)\n",
            "Shape of validation set:\n",
            "(1523,)\n",
            "(1523,)\n",
            "Shape of test set:\n",
            "(761,)\n",
            "(761,)\n"
          ]
        }
      ]
    },
    {
      "cell_type": "markdown",
      "source": [
        "Padding the data samples to a maximum review length in words. Optimal padding to be determined later.\n"
      ],
      "metadata": {
        "id": "3rA4Hlz4iKMR"
      }
    },
    {
      "cell_type": "code",
      "source": [
        "from keras.preprocessing import sequence\n",
        "\n",
        "max_words = 30\n",
        "x = sequence.pad_sequences(train['text_processed'], maxlen=max_words, padding='post')\n",
        "y = train['target']\n",
        "\n",
        "x_train = sequence.pad_sequences(x_train, maxlen=max_words, padding='post') #maxlen=max_words, could be added. Currently pads according to the longest line\n",
        "x_val = sequence.pad_sequences(x_val, maxlen=max_words, padding='post')\n",
        "x_test = sequence.pad_sequences(x_test, maxlen=max_words, padding='post')\n",
        "test = sequence.pad_sequences(test['text_processed'], maxlen=max_words, padding='post')"
      ],
      "metadata": {
        "id": "q3hgM-GaXxy1"
      },
      "execution_count": null,
      "outputs": []
    },
    {
      "cell_type": "markdown",
      "source": [
        "### Try to do some CNN\n",
        "\n",
        "https://medium.com/voice-tech-podcast/text-classification-using-cnn-9ade8155dfb9"
      ],
      "metadata": {
        "id": "I-ZcLVYdoWMT"
      }
    },
    {
      "cell_type": "code",
      "source": [
        "from keras.models import Sequential\n",
        "\n",
        "from keras.layers.embeddings import Embedding\n",
        "from keras.layers.convolutional import Conv1D\n",
        "from keras.layers.convolutional import MaxPooling1D\n",
        "from keras.layers import Dropout\n",
        "from keras.layers import Dense\n",
        "from keras.layers import Flatten\n",
        "from keras import regularizers\n",
        "\n",
        "def getModel():\n",
        "  model = Sequential()\n",
        "  embedding_dim = 32\n",
        "\n",
        "  # Adding the embedding layer which will take words as input and provide a 200 dimensional output of those words which belong in the top_words dictionary\n",
        "  model.add(Embedding(top_words, embedding_dim, input_length=max_words))\n",
        "\n",
        "  #Then, we add the convolutional layer and max-pooling layer.\n",
        "  model.add(Conv1D(32, 3, activation='relu', kernel_regularizer=regularizers.l2(l=0.01)))\n",
        "  model.add(MaxPooling1D())\n",
        "\n",
        "  #Finally, we flatten those matrices into vectors and add dense layers(basically scale,rotating and transform the vector by multiplying Matrix and vector).\n",
        "  model.add(Flatten())\n",
        "  model.add(Dense(100, activation='relu', kernel_regularizer=regularizers.l2(l=0.01)))\n",
        "  #model.add(Dropout(0.5))\n",
        "\n",
        "  #The last Dense layer is having one as parameter because we are doing a binary classification and so we need only one output node in our vector.\n",
        "  model.add(Dense(1, activation='sigmoid'))\n",
        "  model.compile(loss='binary_crossentropy', optimizer='adam', metrics=['accuracy'])\n",
        "  return model"
      ],
      "metadata": {
        "id": "pRvmw6OqlAEl"
      },
      "execution_count": null,
      "outputs": []
    },
    {
      "cell_type": "code",
      "source": [
        "model = getModel()\n",
        "model.summary()"
      ],
      "metadata": {
        "colab": {
          "base_uri": "https://localhost:8080/"
        },
        "id": "g73gTYhppUrt",
        "outputId": "e8b65ccb-099f-4e0e-a624-fa6d42e744dd"
      },
      "execution_count": null,
      "outputs": [
        {
          "output_type": "stream",
          "name": "stdout",
          "text": [
            "Model: \"sequential\"\n",
            "_________________________________________________________________\n",
            " Layer (type)                Output Shape              Param #   \n",
            "=================================================================\n",
            " embedding (Embedding)       (None, 30, 32)            923168    \n",
            "                                                                 \n",
            " conv1d (Conv1D)             (None, 28, 32)            3104      \n",
            "                                                                 \n",
            " max_pooling1d (MaxPooling1D  (None, 14, 32)           0         \n",
            " )                                                               \n",
            "                                                                 \n",
            " flatten (Flatten)           (None, 448)               0         \n",
            "                                                                 \n",
            " dense (Dense)               (None, 100)               44900     \n",
            "                                                                 \n",
            " dense_1 (Dense)             (None, 1)                 101       \n",
            "                                                                 \n",
            "=================================================================\n",
            "Total params: 971,273\n",
            "Trainable params: 971,273\n",
            "Non-trainable params: 0\n",
            "_________________________________________________________________\n"
          ]
        }
      ]
    },
    {
      "cell_type": "markdown",
      "source": [
        "https://www.kaggle.com/franklemuchahary/basic-cnn-keras-with-cross-validation"
      ],
      "metadata": {
        "id": "SCSo0G-jA627"
      }
    },
    {
      "cell_type": "code",
      "source": [
        "from keras.callbacks import ModelCheckpoint, EarlyStopping\n",
        "\n",
        "#set early stopping criteria\n",
        "pat = 5 #this is the number of epochs with no improvment after which the training will stop\n",
        "early_stopping = EarlyStopping(monitor='val_accuracy', patience=pat, verbose=1)\n",
        "\n",
        "#define the model checkpoint callback -> this will keep on saving the model as a physical file\n",
        "model_checkpoint = ModelCheckpoint('best_cnn.h5', verbose=1, save_best_only=True, monitor=\"val_accuracy\")\n",
        "\n",
        "#define a function to fit the model\n",
        "def fit_and_evaluate(train_x, val_x, train_y, val_y, EPOCHS=20, BATCH_SIZE=128):\n",
        "    model = None\n",
        "    model = getModel()\n",
        "    results = model.fit(train_x, train_y, epochs=EPOCHS, batch_size=BATCH_SIZE, callbacks=[early_stopping, model_checkpoint], \n",
        "              verbose=1, validation_split=0.1)  \n",
        "    print(\"Val Score: \", model.evaluate(val_x, val_y))\n",
        "    return results"
      ],
      "metadata": {
        "id": "he993aZy6dus"
      },
      "execution_count": null,
      "outputs": []
    },
    {
      "cell_type": "code",
      "source": [
        "import numpy as np\n",
        "\n",
        "#Now, we will fit our training data and define the the epochs(number of passes through dataset) \n",
        "#and batch size(nunmber of samples processed before updating the model) for our learning model.\n",
        "\n",
        "#Batch size is kept greater than or equal to 1 and less than the number of samples in training data.\n",
        "\n",
        "#history = model.fit(x_train, y_train, validation_data=(x_val, y_val), epochs=5, batch_size=128, verbose=2)\n",
        "\n",
        "n_folds=10\n",
        "epochs=20\n",
        "batch_size=128\n",
        "\n",
        "#save the model history in a list after fitting so that we can plot later\n",
        "model_history = [] \n",
        "\n",
        "for i in range(n_folds):\n",
        "    print(\"Training on Fold: \",i+1)\n",
        "    t_x, val_x, t_y, val_y = train_test_split(x, y, test_size=0.1, \n",
        "                                               random_state = np.random.randint(1,1000, 1)[0])\n",
        "    model_history.append(fit_and_evaluate(t_x, val_x, t_y, val_y, epochs, batch_size))\n",
        "    print(\"=======\"*12, end=\"\\n\\n\\n\")"
      ],
      "metadata": {
        "colab": {
          "base_uri": "https://localhost:8080/"
        },
        "id": "8orKZTumpWVr",
        "outputId": "42410fac-b9ac-4029-d9e5-7bfd466889e6"
      },
      "execution_count": null,
      "outputs": [
        {
          "output_type": "stream",
          "name": "stdout",
          "text": [
            "Training on Fold:  1\n",
            "Epoch 1/20\n",
            "49/49 [==============================] - ETA: 0s - loss: 1.7514 - accuracy: 0.5736\n",
            "Epoch 00001: val_accuracy improved from -inf to 0.61079, saving model to best_cnn.h5\n",
            "49/49 [==============================] - 14s 32ms/step - loss: 1.7514 - accuracy: 0.5736 - val_loss: 1.1217 - val_accuracy: 0.6108\n",
            "Epoch 2/20\n",
            "47/49 [===========================>..] - ETA: 0s - loss: 0.8395 - accuracy: 0.7522\n",
            "Epoch 00002: val_accuracy improved from 0.61079 to 0.73324, saving model to best_cnn.h5\n",
            "49/49 [==============================] - 1s 19ms/step - loss: 0.8339 - accuracy: 0.7544 - val_loss: 0.6939 - val_accuracy: 0.7332\n",
            "Epoch 3/20\n",
            "49/49 [==============================] - ETA: 0s - loss: 0.4668 - accuracy: 0.8793\n",
            "Epoch 00003: val_accuracy improved from 0.73324 to 0.76968, saving model to best_cnn.h5\n",
            "49/49 [==============================] - 1s 16ms/step - loss: 0.4668 - accuracy: 0.8793 - val_loss: 0.6454 - val_accuracy: 0.7697\n",
            "Epoch 4/20\n",
            "49/49 [==============================] - ETA: 0s - loss: 0.3017 - accuracy: 0.9320\n",
            "Epoch 00004: val_accuracy did not improve from 0.76968\n",
            "49/49 [==============================] - 1s 16ms/step - loss: 0.3017 - accuracy: 0.9320 - val_loss: 0.6199 - val_accuracy: 0.7653\n",
            "Epoch 5/20\n",
            "49/49 [==============================] - ETA: 0s - loss: 0.2243 - accuracy: 0.9607\n",
            "Epoch 00005: val_accuracy did not improve from 0.76968\n",
            "49/49 [==============================] - 1s 17ms/step - loss: 0.2243 - accuracy: 0.9607 - val_loss: 0.6735 - val_accuracy: 0.7624\n",
            "Epoch 6/20\n",
            "49/49 [==============================] - ETA: 0s - loss: 0.1802 - accuracy: 0.9744\n",
            "Epoch 00006: val_accuracy did not improve from 0.76968\n",
            "49/49 [==============================] - 1s 19ms/step - loss: 0.1802 - accuracy: 0.9744 - val_loss: 0.6864 - val_accuracy: 0.7595\n",
            "Epoch 7/20\n",
            "48/49 [============================>.] - ETA: 0s - loss: 0.1517 - accuracy: 0.9813\n",
            "Epoch 00007: val_accuracy did not improve from 0.76968\n",
            "49/49 [==============================] - 1s 15ms/step - loss: 0.1517 - accuracy: 0.9813 - val_loss: 0.6933 - val_accuracy: 0.7449\n",
            "Epoch 8/20\n",
            "49/49 [==============================] - ETA: 0s - loss: 0.1348 - accuracy: 0.9859\n",
            "Epoch 00008: val_accuracy did not improve from 0.76968\n",
            "49/49 [==============================] - 1s 15ms/step - loss: 0.1348 - accuracy: 0.9859 - val_loss: 0.7042 - val_accuracy: 0.7507\n",
            "Epoch 00008: early stopping\n",
            "24/24 [==============================] - 0s 6ms/step - loss: 0.6134 - accuracy: 0.7953\n",
            "Val Score:  [0.6133675575256348, 0.7952755689620972]\n",
            "====================================================================================\n",
            "\n",
            "\n",
            "Training on Fold:  2\n",
            "Epoch 1/20\n",
            "49/49 [==============================] - ETA: 0s - loss: 1.7480 - accuracy: 0.5734\n",
            "Epoch 00001: val_accuracy did not improve from 0.76968\n",
            "49/49 [==============================] - 3s 25ms/step - loss: 1.7480 - accuracy: 0.5734 - val_loss: 1.1182 - val_accuracy: 0.5700\n",
            "Epoch 2/20\n",
            "49/49 [==============================] - ETA: 0s - loss: 0.8684 - accuracy: 0.6861\n",
            "Epoch 00002: val_accuracy did not improve from 0.76968\n",
            "49/49 [==============================] - 1s 14ms/step - loss: 0.8684 - accuracy: 0.6861 - val_loss: 0.7036 - val_accuracy: 0.7464\n",
            "Epoch 3/20\n",
            "49/49 [==============================] - ETA: 0s - loss: 0.5279 - accuracy: 0.8474\n",
            "Epoch 00003: val_accuracy improved from 0.76968 to 0.77988, saving model to best_cnn.h5\n",
            "49/49 [==============================] - 1s 18ms/step - loss: 0.5279 - accuracy: 0.8474 - val_loss: 0.5879 - val_accuracy: 0.7799\n",
            "Epoch 4/20\n",
            "46/49 [===========================>..] - ETA: 0s - loss: 0.3372 - accuracy: 0.9158\n",
            "Epoch 00004: val_accuracy improved from 0.77988 to 0.79009, saving model to best_cnn.h5\n",
            "49/49 [==============================] - 1s 15ms/step - loss: 0.3372 - accuracy: 0.9153 - val_loss: 0.5590 - val_accuracy: 0.7901\n",
            "Epoch 5/20\n",
            "48/49 [============================>.] - ETA: 0s - loss: 0.2444 - accuracy: 0.9505\n",
            "Epoch 00005: val_accuracy did not improve from 0.79009\n",
            "49/49 [==============================] - 0s 10ms/step - loss: 0.2440 - accuracy: 0.9507 - val_loss: 0.5857 - val_accuracy: 0.7843\n",
            "Epoch 6/20\n",
            "47/49 [===========================>..] - ETA: 0s - loss: 0.1951 - accuracy: 0.9716\n",
            "Epoch 00006: val_accuracy did not improve from 0.79009\n",
            "49/49 [==============================] - 0s 9ms/step - loss: 0.1947 - accuracy: 0.9716 - val_loss: 0.6129 - val_accuracy: 0.7770\n",
            "Epoch 7/20\n",
            "47/49 [===========================>..] - ETA: 0s - loss: 0.1640 - accuracy: 0.9789\n",
            "Epoch 00007: val_accuracy did not improve from 0.79009\n",
            "49/49 [==============================] - 0s 9ms/step - loss: 0.1635 - accuracy: 0.9791 - val_loss: 0.6277 - val_accuracy: 0.7741\n",
            "Epoch 8/20\n",
            "49/49 [==============================] - ETA: 0s - loss: 0.1438 - accuracy: 0.9839\n",
            "Epoch 00008: val_accuracy did not improve from 0.79009\n",
            "49/49 [==============================] - 0s 9ms/step - loss: 0.1438 - accuracy: 0.9839 - val_loss: 0.6271 - val_accuracy: 0.7770\n",
            "Epoch 9/20\n",
            "49/49 [==============================] - ETA: 0s - loss: 0.1292 - accuracy: 0.9875\n",
            "Epoch 00009: val_accuracy did not improve from 0.79009\n",
            "49/49 [==============================] - 0s 9ms/step - loss: 0.1292 - accuracy: 0.9875 - val_loss: 0.6560 - val_accuracy: 0.7726\n",
            "Epoch 00009: early stopping\n",
            "24/24 [==============================] - 0s 4ms/step - loss: 0.6755 - accuracy: 0.7730\n",
            "Val Score:  [0.6755167841911316, 0.7729659080505371]\n",
            "====================================================================================\n",
            "\n",
            "\n",
            "Training on Fold:  3\n",
            "Epoch 1/20\n",
            "49/49 [==============================] - ETA: 0s - loss: 1.7452 - accuracy: 0.5762\n",
            "Epoch 00001: val_accuracy did not improve from 0.79009\n",
            "49/49 [==============================] - 1s 13ms/step - loss: 1.7452 - accuracy: 0.5762 - val_loss: 1.1102 - val_accuracy: 0.6268\n",
            "Epoch 2/20\n",
            "45/49 [==========================>...] - ETA: 0s - loss: 0.8398 - accuracy: 0.7477\n",
            "Epoch 00002: val_accuracy improved from 0.79009 to 0.79300, saving model to best_cnn.h5\n",
            "49/49 [==============================] - 1s 10ms/step - loss: 0.8264 - accuracy: 0.7528 - val_loss: 0.6572 - val_accuracy: 0.7930\n",
            "Epoch 3/20\n",
            "47/49 [===========================>..] - ETA: 0s - loss: 0.4638 - accuracy: 0.8835\n",
            "Epoch 00003: val_accuracy improved from 0.79300 to 0.80175, saving model to best_cnn.h5\n",
            "49/49 [==============================] - 1s 10ms/step - loss: 0.4636 - accuracy: 0.8826 - val_loss: 0.5612 - val_accuracy: 0.8017\n",
            "Epoch 4/20\n",
            "44/49 [=========================>....] - ETA: 0s - loss: 0.3096 - accuracy: 0.9302\n",
            "Epoch 00004: val_accuracy did not improve from 0.80175\n",
            "49/49 [==============================] - 0s 8ms/step - loss: 0.3053 - accuracy: 0.9324 - val_loss: 0.5614 - val_accuracy: 0.7813\n",
            "Epoch 5/20\n",
            "48/49 [============================>.] - ETA: 0s - loss: 0.2279 - accuracy: 0.9600\n",
            "Epoch 00005: val_accuracy did not improve from 0.80175\n",
            "49/49 [==============================] - 0s 9ms/step - loss: 0.2277 - accuracy: 0.9601 - val_loss: 0.5793 - val_accuracy: 0.7784\n",
            "Epoch 6/20\n",
            "43/49 [=========================>....] - ETA: 0s - loss: 0.1848 - accuracy: 0.9740\n",
            "Epoch 00006: val_accuracy did not improve from 0.80175\n",
            "49/49 [==============================] - 0s 8ms/step - loss: 0.1847 - accuracy: 0.9734 - val_loss: 0.5810 - val_accuracy: 0.7813\n",
            "Epoch 7/20\n",
            "48/49 [============================>.] - ETA: 0s - loss: 0.1564 - accuracy: 0.9837\n",
            "Epoch 00007: val_accuracy did not improve from 0.80175\n",
            "49/49 [==============================] - 0s 9ms/step - loss: 0.1562 - accuracy: 0.9838 - val_loss: 0.5983 - val_accuracy: 0.7653\n",
            "Epoch 8/20\n",
            "47/49 [===========================>..] - ETA: 0s - loss: 0.1406 - accuracy: 0.9862\n",
            "Epoch 00008: val_accuracy did not improve from 0.80175\n",
            "49/49 [==============================] - 0s 9ms/step - loss: 0.1401 - accuracy: 0.9864 - val_loss: 0.6429 - val_accuracy: 0.7901\n",
            "Epoch 00008: early stopping\n",
            "24/24 [==============================] - 0s 3ms/step - loss: 0.6068 - accuracy: 0.8018\n",
            "Val Score:  [0.6068205833435059, 0.8018372654914856]\n",
            "====================================================================================\n",
            "\n",
            "\n",
            "Training on Fold:  4\n",
            "Epoch 1/20\n",
            "48/49 [============================>.] - ETA: 0s - loss: 1.7525 - accuracy: 0.5706\n",
            "Epoch 00001: val_accuracy did not improve from 0.80175\n",
            "49/49 [==============================] - 1s 14ms/step - loss: 1.7504 - accuracy: 0.5705 - val_loss: 1.1207 - val_accuracy: 0.5627\n",
            "Epoch 2/20\n",
            "44/49 [=========================>....] - ETA: 0s - loss: 0.8703 - accuracy: 0.6998\n",
            "Epoch 00002: val_accuracy did not improve from 0.80175\n",
            "49/49 [==============================] - 0s 9ms/step - loss: 0.8540 - accuracy: 0.7056 - val_loss: 0.6760 - val_accuracy: 0.7566\n",
            "Epoch 3/20\n",
            "49/49 [==============================] - ETA: 0s - loss: 0.4958 - accuracy: 0.8678\n",
            "Epoch 00003: val_accuracy did not improve from 0.80175\n",
            "49/49 [==============================] - 0s 9ms/step - loss: 0.4958 - accuracy: 0.8678 - val_loss: 0.5799 - val_accuracy: 0.7886\n",
            "Epoch 4/20\n",
            "45/49 [==========================>...] - ETA: 0s - loss: 0.3177 - accuracy: 0.9267\n",
            "Epoch 00004: val_accuracy did not improve from 0.80175\n",
            "49/49 [==============================] - 0s 8ms/step - loss: 0.3149 - accuracy: 0.9268 - val_loss: 0.6010 - val_accuracy: 0.7755\n",
            "Epoch 5/20\n",
            "43/49 [=========================>....] - ETA: 0s - loss: 0.2299 - accuracy: 0.9608\n",
            "Epoch 00005: val_accuracy did not improve from 0.80175\n",
            "49/49 [==============================] - 0s 8ms/step - loss: 0.2298 - accuracy: 0.9607 - val_loss: 0.6290 - val_accuracy: 0.7755\n",
            "Epoch 6/20\n",
            "48/49 [============================>.] - ETA: 0s - loss: 0.1839 - accuracy: 0.9767\n",
            "Epoch 00006: val_accuracy did not improve from 0.80175\n",
            "49/49 [==============================] - 0s 9ms/step - loss: 0.1841 - accuracy: 0.9766 - val_loss: 0.6525 - val_accuracy: 0.7711\n",
            "Epoch 7/20\n",
            "43/49 [=========================>....] - ETA: 0s - loss: 0.1576 - accuracy: 0.9811\n",
            "Epoch 00007: val_accuracy did not improve from 0.80175\n",
            "49/49 [==============================] - 0s 8ms/step - loss: 0.1586 - accuracy: 0.9812 - val_loss: 0.6704 - val_accuracy: 0.7638\n",
            "Epoch 8/20\n",
            "48/49 [============================>.] - ETA: 0s - loss: 0.1418 - accuracy: 0.9852\n",
            "Epoch 00008: val_accuracy did not improve from 0.80175\n",
            "49/49 [==============================] - 0s 9ms/step - loss: 0.1423 - accuracy: 0.9849 - val_loss: 0.7250 - val_accuracy: 0.7216\n",
            "Epoch 00008: early stopping\n",
            "24/24 [==============================] - 0s 4ms/step - loss: 0.6875 - accuracy: 0.7454\n",
            "Val Score:  [0.6875371932983398, 0.7454068064689636]\n",
            "====================================================================================\n",
            "\n",
            "\n",
            "Training on Fold:  5\n",
            "Epoch 1/20\n",
            "49/49 [==============================] - ETA: 0s - loss: 1.7560 - accuracy: 0.5747\n",
            "Epoch 00001: val_accuracy did not improve from 0.80175\n",
            "49/49 [==============================] - 2s 14ms/step - loss: 1.7560 - accuracy: 0.5747 - val_loss: 1.1259 - val_accuracy: 0.5466\n",
            "Epoch 2/20\n",
            "48/49 [============================>.] - ETA: 0s - loss: 0.8731 - accuracy: 0.6842\n",
            "Epoch 00002: val_accuracy did not improve from 0.80175\n",
            "49/49 [==============================] - 0s 9ms/step - loss: 0.8722 - accuracy: 0.6845 - val_loss: 0.7253 - val_accuracy: 0.6793\n",
            "Epoch 3/20\n",
            "48/49 [============================>.] - ETA: 0s - loss: 0.5486 - accuracy: 0.8394\n",
            "Epoch 00003: val_accuracy improved from 0.80175 to 0.81778, saving model to best_cnn.h5\n",
            "49/49 [==============================] - 0s 10ms/step - loss: 0.5481 - accuracy: 0.8396 - val_loss: 0.5302 - val_accuracy: 0.8178\n",
            "Epoch 4/20\n",
            "47/49 [===========================>..] - ETA: 0s - loss: 0.3546 - accuracy: 0.9111\n",
            "Epoch 00004: val_accuracy did not improve from 0.81778\n",
            "49/49 [==============================] - 0s 9ms/step - loss: 0.3538 - accuracy: 0.9111 - val_loss: 0.5136 - val_accuracy: 0.8076\n",
            "Epoch 5/20\n",
            "47/49 [===========================>..] - ETA: 0s - loss: 0.2545 - accuracy: 0.9510\n",
            "Epoch 00005: val_accuracy did not improve from 0.81778\n",
            "49/49 [==============================] - 0s 9ms/step - loss: 0.2555 - accuracy: 0.9504 - val_loss: 0.5371 - val_accuracy: 0.8076\n",
            "Epoch 6/20\n",
            "49/49 [==============================] - ETA: 0s - loss: 0.2024 - accuracy: 0.9677\n",
            "Epoch 00006: val_accuracy did not improve from 0.81778\n",
            "49/49 [==============================] - 0s 9ms/step - loss: 0.2024 - accuracy: 0.9677 - val_loss: 0.6141 - val_accuracy: 0.7434\n",
            "Epoch 7/20\n",
            "48/49 [============================>.] - ETA: 0s - loss: 0.1682 - accuracy: 0.9790\n",
            "Epoch 00007: val_accuracy did not improve from 0.81778\n",
            "49/49 [==============================] - 0s 9ms/step - loss: 0.1681 - accuracy: 0.9791 - val_loss: 0.5709 - val_accuracy: 0.7901\n",
            "Epoch 8/20\n",
            "48/49 [============================>.] - ETA: 0s - loss: 0.1433 - accuracy: 0.9850\n",
            "Epoch 00008: val_accuracy did not improve from 0.81778\n",
            "49/49 [==============================] - 0s 9ms/step - loss: 0.1432 - accuracy: 0.9851 - val_loss: 0.5964 - val_accuracy: 0.7624\n",
            "Epoch 00008: early stopping\n",
            "24/24 [==============================] - 0s 4ms/step - loss: 0.6195 - accuracy: 0.7848\n",
            "Val Score:  [0.6194960474967957, 0.7847769260406494]\n",
            "====================================================================================\n",
            "\n",
            "\n",
            "Training on Fold:  6\n",
            "Epoch 1/20\n",
            "46/49 [===========================>..] - ETA: 0s - loss: 1.7761 - accuracy: 0.5664\n",
            "Epoch 00001: val_accuracy did not improve from 0.81778\n",
            "49/49 [==============================] - 1s 13ms/step - loss: 1.7482 - accuracy: 0.5669 - val_loss: 1.1002 - val_accuracy: 0.6064\n",
            "Epoch 2/20\n",
            "48/49 [============================>.] - ETA: 0s - loss: 0.8505 - accuracy: 0.7210\n",
            "Epoch 00002: val_accuracy did not improve from 0.81778\n",
            "49/49 [==============================] - 0s 9ms/step - loss: 0.8495 - accuracy: 0.7218 - val_loss: 0.6326 - val_accuracy: 0.8076\n",
            "Epoch 3/20\n",
            "49/49 [==============================] - ETA: 0s - loss: 0.4881 - accuracy: 0.8694\n",
            "Epoch 00003: val_accuracy improved from 0.81778 to 0.81924, saving model to best_cnn.h5\n",
            "49/49 [==============================] - 1s 10ms/step - loss: 0.4881 - accuracy: 0.8694 - val_loss: 0.5168 - val_accuracy: 0.8192\n",
            "Epoch 4/20\n",
            "48/49 [============================>.] - ETA: 0s - loss: 0.3139 - accuracy: 0.9307\n",
            "Epoch 00004: val_accuracy did not improve from 0.81924\n",
            "49/49 [==============================] - 0s 9ms/step - loss: 0.3147 - accuracy: 0.9304 - val_loss: 0.5242 - val_accuracy: 0.8032\n",
            "Epoch 5/20\n",
            "48/49 [============================>.] - ETA: 0s - loss: 0.2316 - accuracy: 0.9601\n",
            "Epoch 00005: val_accuracy did not improve from 0.81924\n",
            "49/49 [==============================] - 0s 9ms/step - loss: 0.2314 - accuracy: 0.9603 - val_loss: 0.5526 - val_accuracy: 0.7886\n",
            "Epoch 6/20\n",
            "43/49 [=========================>....] - ETA: 0s - loss: 0.1826 - accuracy: 0.9742\n",
            "Epoch 00006: val_accuracy did not improve from 0.81924\n",
            "49/49 [==============================] - 0s 10ms/step - loss: 0.1846 - accuracy: 0.9734 - val_loss: 0.5830 - val_accuracy: 0.7697\n",
            "Epoch 7/20\n",
            "46/49 [===========================>..] - ETA: 0s - loss: 0.1615 - accuracy: 0.9827\n",
            "Epoch 00007: val_accuracy did not improve from 0.81924\n",
            "49/49 [==============================] - 0s 9ms/step - loss: 0.1609 - accuracy: 0.9826 - val_loss: 0.5834 - val_accuracy: 0.7813\n",
            "Epoch 8/20\n",
            "49/49 [==============================] - ETA: 0s - loss: 0.1425 - accuracy: 0.9848\n",
            "Epoch 00008: val_accuracy did not improve from 0.81924\n",
            "49/49 [==============================] - 0s 9ms/step - loss: 0.1425 - accuracy: 0.9848 - val_loss: 0.5798 - val_accuracy: 0.7813\n",
            "Epoch 00008: early stopping\n",
            "24/24 [==============================] - 0s 4ms/step - loss: 0.6062 - accuracy: 0.7848\n",
            "Val Score:  [0.606166660785675, 0.7847769260406494]\n",
            "====================================================================================\n",
            "\n",
            "\n",
            "Training on Fold:  7\n",
            "Epoch 1/20\n",
            "44/49 [=========================>....] - ETA: 0s - loss: 1.8055 - accuracy: 0.5662\n",
            "Epoch 00001: val_accuracy did not improve from 0.81924\n",
            "49/49 [==============================] - 1s 14ms/step - loss: 1.7503 - accuracy: 0.5659 - val_loss: 1.1142 - val_accuracy: 0.5889\n",
            "Epoch 2/20\n",
            "48/49 [============================>.] - ETA: 0s - loss: 0.8665 - accuracy: 0.6896\n",
            "Epoch 00002: val_accuracy did not improve from 0.81924\n",
            "49/49 [==============================] - 0s 9ms/step - loss: 0.8661 - accuracy: 0.6895 - val_loss: 0.7010 - val_accuracy: 0.7128\n",
            "Epoch 3/20\n",
            "49/49 [==============================] - ETA: 0s - loss: 0.5230 - accuracy: 0.8514\n",
            "Epoch 00003: val_accuracy did not improve from 0.81924\n",
            "49/49 [==============================] - 0s 9ms/step - loss: 0.5230 - accuracy: 0.8514 - val_loss: 0.5759 - val_accuracy: 0.7755\n",
            "Epoch 4/20\n",
            "44/49 [=========================>....] - ETA: 0s - loss: 0.3337 - accuracy: 0.9201\n",
            "Epoch 00004: val_accuracy did not improve from 0.81924\n",
            "49/49 [==============================] - 0s 8ms/step - loss: 0.3333 - accuracy: 0.9199 - val_loss: 0.5432 - val_accuracy: 0.7886\n",
            "Epoch 5/20\n",
            "47/49 [===========================>..] - ETA: 0s - loss: 0.2416 - accuracy: 0.9536\n",
            "Epoch 00005: val_accuracy did not improve from 0.81924\n",
            "49/49 [==============================] - 0s 9ms/step - loss: 0.2423 - accuracy: 0.9530 - val_loss: 0.5720 - val_accuracy: 0.7857\n",
            "Epoch 6/20\n",
            "48/49 [============================>.] - ETA: 0s - loss: 0.1951 - accuracy: 0.9702\n",
            "Epoch 00006: val_accuracy did not improve from 0.81924\n",
            "49/49 [==============================] - 0s 9ms/step - loss: 0.1953 - accuracy: 0.9700 - val_loss: 0.6046 - val_accuracy: 0.7741\n",
            "Epoch 7/20\n",
            "48/49 [============================>.] - ETA: 0s - loss: 0.1673 - accuracy: 0.9801\n",
            "Epoch 00007: val_accuracy did not improve from 0.81924\n",
            "49/49 [==============================] - 0s 9ms/step - loss: 0.1672 - accuracy: 0.9802 - val_loss: 0.6001 - val_accuracy: 0.7828\n",
            "Epoch 8/20\n",
            "46/49 [===========================>..] - ETA: 0s - loss: 0.1430 - accuracy: 0.9844\n",
            "Epoch 00008: val_accuracy did not improve from 0.81924\n",
            "49/49 [==============================] - 0s 9ms/step - loss: 0.1433 - accuracy: 0.9843 - val_loss: 0.5954 - val_accuracy: 0.7886\n",
            "Epoch 9/20\n",
            "47/49 [===========================>..] - ETA: 0s - loss: 0.1284 - accuracy: 0.9880\n",
            "Epoch 00009: val_accuracy did not improve from 0.81924\n",
            "49/49 [==============================] - 0s 9ms/step - loss: 0.1285 - accuracy: 0.9878 - val_loss: 0.6036 - val_accuracy: 0.7843\n",
            "Epoch 00009: early stopping\n",
            "24/24 [==============================] - 0s 4ms/step - loss: 0.6019 - accuracy: 0.7756\n",
            "Val Score:  [0.6019135117530823, 0.7755905389785767]\n",
            "====================================================================================\n",
            "\n",
            "\n",
            "Training on Fold:  8\n",
            "Epoch 1/20\n",
            "47/49 [===========================>..] - ETA: 0s - loss: 1.7611 - accuracy: 0.5677\n",
            "Epoch 00001: val_accuracy did not improve from 0.81924\n",
            "49/49 [==============================] - 2s 18ms/step - loss: 1.7460 - accuracy: 0.5676 - val_loss: 1.1035 - val_accuracy: 0.6268\n",
            "Epoch 2/20\n",
            "47/49 [===========================>..] - ETA: 0s - loss: 0.8394 - accuracy: 0.7367\n",
            "Epoch 00002: val_accuracy did not improve from 0.81924\n",
            "49/49 [==============================] - 0s 9ms/step - loss: 0.8329 - accuracy: 0.7403 - val_loss: 0.6445 - val_accuracy: 0.7711\n",
            "Epoch 3/20\n",
            "49/49 [==============================] - ETA: 0s - loss: 0.4677 - accuracy: 0.8753\n",
            "Epoch 00003: val_accuracy did not improve from 0.81924\n",
            "49/49 [==============================] - 0s 9ms/step - loss: 0.4677 - accuracy: 0.8753 - val_loss: 0.5329 - val_accuracy: 0.8076\n",
            "Epoch 4/20\n",
            "49/49 [==============================] - ETA: 0s - loss: 0.3030 - accuracy: 0.9314\n",
            "Epoch 00004: val_accuracy did not improve from 0.81924\n",
            "49/49 [==============================] - 0s 9ms/step - loss: 0.3030 - accuracy: 0.9314 - val_loss: 0.5394 - val_accuracy: 0.8076\n",
            "Epoch 5/20\n",
            "49/49 [==============================] - ETA: 0s - loss: 0.2248 - accuracy: 0.9633\n",
            "Epoch 00005: val_accuracy did not improve from 0.81924\n",
            "49/49 [==============================] - 0s 9ms/step - loss: 0.2248 - accuracy: 0.9633 - val_loss: 0.5631 - val_accuracy: 0.7959\n",
            "Epoch 6/20\n",
            "47/49 [===========================>..] - ETA: 0s - loss: 0.1825 - accuracy: 0.9761\n",
            "Epoch 00006: val_accuracy did not improve from 0.81924\n",
            "49/49 [==============================] - 0s 9ms/step - loss: 0.1828 - accuracy: 0.9758 - val_loss: 0.5823 - val_accuracy: 0.7828\n",
            "Epoch 7/20\n",
            "47/49 [===========================>..] - ETA: 0s - loss: 0.1543 - accuracy: 0.9854\n",
            "Epoch 00007: val_accuracy did not improve from 0.81924\n",
            "49/49 [==============================] - 0s 9ms/step - loss: 0.1546 - accuracy: 0.9851 - val_loss: 0.5814 - val_accuracy: 0.7886\n",
            "Epoch 8/20\n",
            "44/49 [=========================>....] - ETA: 0s - loss: 0.1361 - accuracy: 0.9858\n",
            "Epoch 00008: val_accuracy did not improve from 0.81924\n",
            "49/49 [==============================] - 0s 9ms/step - loss: 0.1377 - accuracy: 0.9849 - val_loss: 0.6007 - val_accuracy: 0.7813\n",
            "Epoch 00008: early stopping\n",
            "24/24 [==============================] - 0s 4ms/step - loss: 0.6538 - accuracy: 0.7598\n",
            "Val Score:  [0.6538065671920776, 0.7598425149917603]\n",
            "====================================================================================\n",
            "\n",
            "\n",
            "Training on Fold:  9\n",
            "Epoch 1/20\n",
            "48/49 [============================>.] - ETA: 0s - loss: 1.7506 - accuracy: 0.5713\n",
            "Epoch 00001: val_accuracy did not improve from 0.81924\n",
            "49/49 [==============================] - 1s 13ms/step - loss: 1.7484 - accuracy: 0.5718 - val_loss: 1.1151 - val_accuracy: 0.5904\n",
            "Epoch 2/20\n",
            "48/49 [============================>.] - ETA: 0s - loss: 0.8534 - accuracy: 0.7113\n",
            "Epoch 00002: val_accuracy did not improve from 0.81924\n",
            "49/49 [==============================] - 0s 9ms/step - loss: 0.8525 - accuracy: 0.7114 - val_loss: 0.6839 - val_accuracy: 0.7434\n",
            "Epoch 3/20\n",
            "48/49 [============================>.] - ETA: 0s - loss: 0.4855 - accuracy: 0.8687\n",
            "Epoch 00003: val_accuracy did not improve from 0.81924\n",
            "49/49 [==============================] - 0s 9ms/step - loss: 0.4850 - accuracy: 0.8689 - val_loss: 0.5675 - val_accuracy: 0.7799\n",
            "Epoch 4/20\n",
            "45/49 [==========================>...] - ETA: 0s - loss: 0.3192 - accuracy: 0.9255\n",
            "Epoch 00004: val_accuracy did not improve from 0.81924\n",
            "49/49 [==============================] - 0s 10ms/step - loss: 0.3162 - accuracy: 0.9259 - val_loss: 0.5622 - val_accuracy: 0.7988\n",
            "Epoch 5/20\n",
            "44/49 [=========================>....] - ETA: 0s - loss: 0.2309 - accuracy: 0.9581\n",
            "Epoch 00005: val_accuracy did not improve from 0.81924\n",
            "49/49 [==============================] - 0s 9ms/step - loss: 0.2301 - accuracy: 0.9578 - val_loss: 0.5800 - val_accuracy: 0.8032\n",
            "Epoch 6/20\n",
            "46/49 [===========================>..] - ETA: 0s - loss: 0.1805 - accuracy: 0.9769\n",
            "Epoch 00006: val_accuracy did not improve from 0.81924\n",
            "49/49 [==============================] - 0s 9ms/step - loss: 0.1826 - accuracy: 0.9753 - val_loss: 0.6118 - val_accuracy: 0.7755\n",
            "Epoch 7/20\n",
            "47/49 [===========================>..] - ETA: 0s - loss: 0.1604 - accuracy: 0.9824\n",
            "Epoch 00007: val_accuracy did not improve from 0.81924\n",
            "49/49 [==============================] - 0s 9ms/step - loss: 0.1600 - accuracy: 0.9826 - val_loss: 0.6038 - val_accuracy: 0.7682\n",
            "Epoch 8/20\n",
            "49/49 [==============================] - ETA: 0s - loss: 0.1413 - accuracy: 0.9852\n",
            "Epoch 00008: val_accuracy did not improve from 0.81924\n",
            "49/49 [==============================] - 0s 10ms/step - loss: 0.1413 - accuracy: 0.9852 - val_loss: 0.6185 - val_accuracy: 0.7959\n",
            "Epoch 9/20\n",
            "44/49 [=========================>....] - ETA: 0s - loss: 0.1243 - accuracy: 0.9893\n",
            "Epoch 00009: val_accuracy did not improve from 0.81924\n",
            "49/49 [==============================] - 0s 10ms/step - loss: 0.1240 - accuracy: 0.9898 - val_loss: 0.6223 - val_accuracy: 0.7741\n",
            "Epoch 10/20\n",
            "47/49 [===========================>..] - ETA: 0s - loss: 0.1126 - accuracy: 0.9909\n",
            "Epoch 00010: val_accuracy did not improve from 0.81924\n",
            "49/49 [==============================] - 1s 10ms/step - loss: 0.1124 - accuracy: 0.9908 - val_loss: 0.6360 - val_accuracy: 0.7828\n",
            "Epoch 00010: early stopping\n",
            "24/24 [==============================] - 0s 5ms/step - loss: 0.6570 - accuracy: 0.7690\n",
            "Val Score:  [0.6569617986679077, 0.7690288424491882]\n",
            "====================================================================================\n",
            "\n",
            "\n",
            "Training on Fold:  10\n",
            "Epoch 1/20\n",
            "46/49 [===========================>..] - ETA: 0s - loss: 1.7847 - accuracy: 0.5676\n",
            "Epoch 00001: val_accuracy did not improve from 0.81924\n",
            "49/49 [==============================] - 2s 15ms/step - loss: 1.7569 - accuracy: 0.5661 - val_loss: 1.1106 - val_accuracy: 0.5787\n",
            "Epoch 2/20\n",
            "44/49 [=========================>....] - ETA: 0s - loss: 0.8552 - accuracy: 0.7227\n",
            "Epoch 00002: val_accuracy did not improve from 0.81924\n",
            "49/49 [==============================] - 0s 9ms/step - loss: 0.8373 - accuracy: 0.7291 - val_loss: 0.6559 - val_accuracy: 0.7653\n",
            "Epoch 3/20\n",
            "43/49 [=========================>....] - ETA: 0s - loss: 0.4766 - accuracy: 0.8701\n",
            "Epoch 00003: val_accuracy did not improve from 0.81924\n",
            "49/49 [==============================] - 0s 10ms/step - loss: 0.4726 - accuracy: 0.8691 - val_loss: 0.5532 - val_accuracy: 0.8032\n",
            "Epoch 4/20\n",
            "43/49 [=========================>....] - ETA: 0s - loss: 0.3077 - accuracy: 0.9306\n",
            "Epoch 00004: val_accuracy did not improve from 0.81924\n",
            "49/49 [==============================] - 0s 10ms/step - loss: 0.3046 - accuracy: 0.9319 - val_loss: 0.5761 - val_accuracy: 0.7988\n",
            "Epoch 5/20\n",
            "44/49 [=========================>....] - ETA: 0s - loss: 0.2269 - accuracy: 0.9583\n",
            "Epoch 00005: val_accuracy did not improve from 0.81924\n",
            "49/49 [==============================] - 0s 10ms/step - loss: 0.2272 - accuracy: 0.9585 - val_loss: 0.6062 - val_accuracy: 0.7901\n",
            "Epoch 6/20\n",
            "44/49 [=========================>....] - ETA: 0s - loss: 0.1790 - accuracy: 0.9760\n",
            "Epoch 00006: val_accuracy did not improve from 0.81924\n",
            "49/49 [==============================] - 0s 10ms/step - loss: 0.1800 - accuracy: 0.9755 - val_loss: 0.6298 - val_accuracy: 0.7741\n",
            "Epoch 7/20\n",
            "46/49 [===========================>..] - ETA: 0s - loss: 0.1538 - accuracy: 0.9823\n",
            "Epoch 00007: val_accuracy did not improve from 0.81924\n",
            "49/49 [==============================] - 0s 10ms/step - loss: 0.1543 - accuracy: 0.9818 - val_loss: 0.6410 - val_accuracy: 0.7843\n",
            "Epoch 8/20\n",
            "46/49 [===========================>..] - ETA: 0s - loss: 0.1393 - accuracy: 0.9868\n",
            "Epoch 00008: val_accuracy did not improve from 0.81924\n",
            "49/49 [==============================] - 1s 10ms/step - loss: 0.1390 - accuracy: 0.9870 - val_loss: 0.6596 - val_accuracy: 0.7741\n",
            "Epoch 00008: early stopping\n",
            "24/24 [==============================] - 0s 4ms/step - loss: 0.6416 - accuracy: 0.7874\n",
            "Val Score:  [0.6415681838989258, 0.787401556968689]\n",
            "====================================================================================\n",
            "\n",
            "\n"
          ]
        }
      ]
    },
    {
      "cell_type": "code",
      "source": [
        "from keras.models import load_model\n",
        "\n",
        "\n",
        "model = load_model('best_cnn.h5')\n",
        "\n",
        "scores = model.evaluate(x_test, y_test)\n",
        "\n",
        "print(\"Accuracy: %.2f%%\" % (scores[1]*100))\n",
        "\n",
        "#dropout 0.8 = 78.2\n",
        "#dropout 0.1 = 77.32\n",
        "#dropout 0.95 = 76.36\n",
        "#dropout 0.5 = 77.76\n",
        "#ilma dropoutita 78.11\n",
        "\n",
        "from sklearn.metrics import f1_score\n",
        "print(\"F1 score: \", f1_score(y_test, [0 if x < 0.5 else 1 for x in model.predict(x_test)]))\n"
      ],
      "metadata": {
        "colab": {
          "base_uri": "https://localhost:8080/"
        },
        "id": "kGHuIz9dp1sQ",
        "outputId": "d2eebfc3-2706-440e-91ad-fb57cba84b46"
      },
      "execution_count": null,
      "outputs": [
        {
          "output_type": "stream",
          "name": "stdout",
          "text": [
            "24/24 [==============================] - 0s 5ms/step - loss: 0.3770 - accuracy: 0.9054\n",
            "Accuracy: 90.54%\n",
            "F1 score:  0.8803986710963454\n"
          ]
        }
      ]
    },
    {
      "cell_type": "code",
      "source": [
        "import matplotlib.pyplot as plt\n",
        "plt.figure(figsize=(16, 6))\n",
        "\n",
        "def plot_curves(history, color, color2):\n",
        "\n",
        "  plt.subplot(1, 2, 1)\n",
        "  plt.plot(history.history['loss'], color=color)\n",
        "  plt.plot(history.history['val_loss'], color=color2)\n",
        "  plt.xlabel('Epoch')\n",
        "  plt.ylabel('Loss')\n",
        "  plt.legend(['Training', 'Validation'])\n",
        "  plt.title('Loss')\n",
        "\n",
        "  plt.subplot(1, 2, 2)\n",
        "  plt.plot(history.history['accuracy'], color=color)\n",
        "  plt.plot(history.history['val_accuracy'], color=color2)\n",
        "  plt.xlabel('Epoch')\n",
        "  plt.ylabel('Accuracy')\n",
        "  plt.legend(['Training', 'Validation'])\n",
        "  plt.title('Accuracy')\n",
        "\n",
        "plot_curves(model_history[0], 'black', '#83c6fa')\n",
        "plot_curves(model_history[1], 'black', '#83c6fa')\n",
        "plot_curves(model_history[2], 'black', '#83c6fa')\n",
        "plot_curves(model_history[3], 'black', '#83c6fa')\n",
        "plot_curves(model_history[4], 'black', '#83c6fa')\n",
        "plot_curves(model_history[5], 'black', '#83c6fa')\n",
        "plot_curves(model_history[6], 'black', '#83c6fa')\n",
        "plot_curves(model_history[7], 'black', '#83c6fa')\n",
        "plot_curves(model_history[8], 'black', '#83c6fa')\n",
        "plot_curves(model_history[9], 'black', '#83c6fa')"
      ],
      "metadata": {
        "colab": {
          "base_uri": "https://localhost:8080/",
          "height": 497
        },
        "id": "nytFBxBoziFO",
        "outputId": "75d09e56-d2ae-4057-a702-2cd69d6384a1"
      },
      "execution_count": null,
      "outputs": [
        {
          "output_type": "stream",
          "name": "stderr",
          "text": [
            "/usr/local/lib/python3.7/dist-packages/ipykernel_launcher.py:6: MatplotlibDeprecationWarning: Adding an axes using the same arguments as a previous axes currently reuses the earlier instance.  In a future version, a new instance will always be created and returned.  Meanwhile, this warning can be suppressed, and the future behavior ensured, by passing a unique label to each axes instance.\n",
            "  \n",
            "/usr/local/lib/python3.7/dist-packages/ipykernel_launcher.py:14: MatplotlibDeprecationWarning: Adding an axes using the same arguments as a previous axes currently reuses the earlier instance.  In a future version, a new instance will always be created and returned.  Meanwhile, this warning can be suppressed, and the future behavior ensured, by passing a unique label to each axes instance.\n",
            "  \n"
          ]
        },
        {
          "output_type": "display_data",
          "data": {
            "image/png": "[encoded data removed]",
            "text/plain": [
              "<Figure size 1152x432 with 2 Axes>"
            ]
          },
          "metadata": {
            "needs_background": "light"
          }
        }
      ]
    },
    {
      "cell_type": "code",
      "source": [
        "import numpy as np\n",
        "\n",
        "proba_predict = pd.DataFrame({'id':pd.read_csv(\"test.csv\")['id']})\n",
        "proba_predict['target'] = [0 if x < 0.5 else 1 for x in model.predict(test)]\n",
        "\n",
        "proba_predict\n",
        "proba_predict.to_csv('CNN_NLP.csv', index=False)\n",
        "\n",
        "! kaggle competitions submit -c nlp-getting-started -f CNN_NLP.csv -m \"CNN NLP submission 3 with CV, low embedding\"\n"
      ],
      "metadata": {
        "id": "T0OuylGA4MTn",
        "colab": {
          "base_uri": "https://localhost:8080/"
        },
        "outputId": "5eb6c5e8-a504-49a7-be93-4d5de9cb1e24"
      },
      "execution_count": null,
      "outputs": [
        {
          "output_type": "stream",
          "name": "stdout",
          "text": [
            "Warning: Looks like you're using an outdated API Version, please consider updating (server 1.5.12 / client 1.5.4)\n",
            "100% 22.2k/22.2k [00:01<00:00, 11.8kB/s]\n",
            "Successfully submitted to Natural Language Processing with Disaster Tweets"
          ]
        }
      ]
    },
    {
      "cell_type": "code",
      "source": [
        ""
      ],
      "metadata": {
        "id": "D6ibObSa-QLv"
      },
      "execution_count": null,
      "outputs": []
    }
  ]
}